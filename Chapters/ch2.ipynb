{
 "cells": [
  {
   "cell_type": "markdown",
   "metadata": {},
   "source": [
    "# CAPM - Linear Regression to find the Security Beta "
   ]
  },
  {
   "cell_type": "code",
   "execution_count": 6,
   "metadata": {},
   "outputs": [
    {
     "name": "stdout",
     "output_type": "stream",
     "text": [
      "0.5077431878770808 -0.008481900352462384\n"
     ]
    }
   ],
   "source": [
    " \n",
    "from scipy import stats    \n",
    "stock_returns = [0.065, 0.0265, -0.0593, -0.001, 0.0346]    \n",
    "mkt_returns = [0.055, -0.09, -0.041, 0.045, 0.022]    \n",
    "beta, alpha, r_value, p_value, std_err = \\\n",
    "    stats.linregress(stock_returns, mkt_returns)\n",
    "print(beta, alpha) "
   ]
  },
  {
   "cell_type": "markdown",
   "metadata": {},
   "source": [
    "a Beta < 1 means that the insturment is overvalued. Negative alpha means it underperforms the market"
   ]
  },
  {
   "cell_type": "markdown",
   "metadata": {},
   "source": [
    "# Arbitrage Pricing Theory - Multivariate Linear Regression of multivariate models"
   ]
  },
  {
   "cell_type": "markdown",
   "metadata": {},
   "source": [
    "Let's assume that you have implemented an APT model with seven factors that return the values of Y. Consider the following set of data collected over nine time periods, t1 to t9. X1 to X7 are independent variables observed at each period. The regression problem is therefore structured as follows:\n",
    "\n",
    "$$\n",
    "Y = X_{i,1} F_1 + X_{i,2} F_2 + X_{i,3} F_3 + X_{i,4} F_4 + X_{i,5} F_5 + X_{i,6} F_6 + X_{i,7} F_7 + c\n",
    "$$"
   ]
  },
  {
   "cell_type": "code",
   "execution_count": 7,
   "metadata": {},
   "outputs": [
    {
     "name": "stdout",
     "output_type": "stream",
     "text": [
      "                            OLS Regression Results                            \n",
      "==============================================================================\n",
      "Dep. Variable:                      y   R-squared:                       0.554\n",
      "Model:                            OLS   Adj. R-squared:                 -2.570\n",
      "Method:                 Least Squares   F-statistic:                    0.1773\n",
      "Date:                Mon, 03 Mar 2025   Prob (F-statistic):              0.951\n",
      "Time:                        22:16:55   Log-Likelihood:                 1.9728\n",
      "No. Observations:                   9   AIC:                             12.05\n",
      "Df Residuals:                       1   BIC:                             13.63\n",
      "Df Model:                           7                                         \n",
      "Covariance Type:            nonrobust                                         \n",
      "==============================================================================\n",
      "                 coef    std err          t      P>|t|      [0.025      0.975]\n",
      "------------------------------------------------------------------------------\n",
      "const          1.7842      1.751      1.019      0.494     -20.466      24.035\n",
      "x1             0.2092      1.345      0.156      0.902     -16.882      17.300\n",
      "x2            -0.1412      0.840     -0.168      0.894     -10.812      10.530\n",
      "x3            -0.1548      1.106     -0.140      0.911     -14.205      13.896\n",
      "x4            -0.8248      1.121     -0.736      0.596     -15.065      13.416\n",
      "x5             2.0049      1.868      1.073      0.477     -21.728      25.738\n",
      "x6            -0.8115      1.414     -0.574      0.668     -18.776      17.153\n",
      "x7            -2.9184      2.859     -1.021      0.493     -39.241      33.404\n",
      "==============================================================================\n",
      "Omnibus:                        4.584   Durbin-Watson:                   1.489\n",
      "Prob(Omnibus):                  0.101   Jarque-Bera (JB):                1.365\n",
      "Skew:                          -0.911   Prob(JB):                        0.505\n",
      "Kurtosis:                       3.565   Cond. No.                         31.2\n",
      "==============================================================================\n",
      "\n",
      "Notes:\n",
      "[1] Standard Errors assume that the covariance matrix of the errors is correctly specified.\n",
      "[ 1.78420268  0.20919806 -0.14119219 -0.15484529 -0.82483146  2.00485643\n",
      " -0.81146762 -2.9183559 ]\n"
     ]
    },
    {
     "name": "stderr",
     "output_type": "stream",
     "text": [
      "/config/.cache/pypoetry/virtualenvs/jamesma-pythonforfinance2nd-ZFhDPeMw-py3.12/lib/python3.11/site-packages/scipy/stats/_axis_nan_policy.py:430: UserWarning: `kurtosistest` p-value may be inaccurate with fewer than 20 observations; only n=9 observations were given.\n",
      "  return hypotest_fun_in(*args, **kwds)\n"
     ]
    }
   ],
   "source": [
    "import numpy as np\n",
    "import statsmodels.api as sm    # Generate some sample data    \n",
    "num_periods = 9    \n",
    "all_values = np.array([np.random.random(8) \\\n",
    "    for i in range(num_periods)])       \n",
    "# Filter the data     \n",
    "y_values = all_values[:, 0] # First column values as Y    \n",
    "x_values = all_values[:, 1:] # All other values as X    \n",
    "x_values = sm.add_constant(x_values) # Include the intercept    \n",
    "results = sm.OLS(y_values, x_values).fit() # Regress and fit the model\n",
    "print(results.summary())\n",
    "print(results.params)"
   ]
  },
  {
   "cell_type": "markdown",
   "metadata": {},
   "source": []
  }
 ],
 "metadata": {
  "kernelspec": {
   "display_name": "jamesma-pythonforfinance2nd-ZFhDPeMw-py3.12",
   "language": "python",
   "name": "python3"
  },
  "language_info": {
   "codemirror_mode": {
    "name": "ipython",
    "version": 3
   },
   "file_extension": ".py",
   "mimetype": "text/x-python",
   "name": "python",
   "nbconvert_exporter": "python",
   "pygments_lexer": "ipython3",
   "version": "3.11.11"
  }
 },
 "nbformat": 4,
 "nbformat_minor": 2
}
